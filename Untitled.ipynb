{
 "cells": [
  {
   "cell_type": "raw",
   "id": "bc8f4769-3866-47db-af65-d177026ea95a",
   "metadata": {},
   "source": [
    "Git Command\n",
    "git clone repositoryurl -b branch\n",
    "git status\n",
    "git commit -am \"hello msg\"\n",
    "git push origin branch\n",
    "git pull origin branch\n"
   ]
  }
 ],
 "metadata": {
  "kernelspec": {
   "display_name": "Python 3 (ipykernel)",
   "language": "python",
   "name": "python3"
  },
  "language_info": {
   "codemirror_mode": {
    "name": "ipython",
    "version": 3
   },
   "file_extension": ".py",
   "mimetype": "text/x-python",
   "name": "python",
   "nbconvert_exporter": "python",
   "pygments_lexer": "ipython3",
   "version": "3.10.0"
  }
 },
 "nbformat": 4,
 "nbformat_minor": 5
}
