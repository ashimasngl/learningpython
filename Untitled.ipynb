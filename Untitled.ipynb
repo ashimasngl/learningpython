{
 "cells": [
  {
   "cell_type": "raw",
   "id": "bc8f4769-3866-47db-af65-d177026ea95a",
   "metadata": {},
   "source": [
    "Git Command\n",
    "git clone repositoryurl -b branch\n",
    "git status\n",
    "git commit -am \"hello msg\"\n",
    "git push origin branch\n",
    "git pull origin branch\n"
   ]
  },
  {
   "cell_type": "code",
   "execution_count": 1,
   "id": "1894f3be-cddc-45c0-9613-06a72167a7b3",
   "metadata": {},
   "outputs": [
    {
     "name": "stdout",
     "output_type": "stream",
     "text": [
      "On branch main\n",
      "Your branch is up to date with 'origin/main'.\n",
      "\n",
      "Changes not staged for commit:\n",
      "  (use \"git add <file>...\" to update what will be committed)\n",
      "  (use \"git restore <file>...\" to discard changes in working directory)\n",
      "\tmodified:   Untitled.ipynb\n",
      "\n",
      "Untracked files:\n",
      "  (use \"git add <file>...\" to include in what will be committed)\n",
      "\t.idea/\n",
      "\t.ipynb_checkpoints/README-checkpoint.md\n",
      "\t.ipynb_checkpoints/Untitled-checkpoint.ipynb\n",
      "\n",
      "no changes added to commit (use \"git add\" and/or \"git commit -a\")\n"
     ]
    }
   ],
   "source": [
    "!git status"
   ]
  },
  {
   "cell_type": "code",
   "execution_count": 2,
   "id": "3e4a1c4a-3bf2-4c86-91c7-c9f84785a73e",
   "metadata": {},
   "outputs": [
    {
     "name": "stderr",
     "output_type": "stream",
     "text": [
      "'env' is not recognized as an internal or external command,\n",
      "operable program or batch file.\n"
     ]
    }
   ],
   "source": []
  },
  {
   "cell_type": "code",
   "execution_count": 3,
   "id": "fd8911b8-7306-42e4-9641-ad86e612973e",
   "metadata": {},
   "outputs": [
    {
     "name": "stdout",
     "output_type": "stream",
     "text": [
      "ALLUSERSPROFILE=C:\\ProgramData\n",
      "APPDATA=C:\\Users\\ashim\\AppData\\Roaming\n",
      "CLICOLOR=1\n",
      "COMMONPROGRAMFILES=C:\\Program Files\\Common Files\n",
      "COMMONPROGRAMFILES(X86)=C:\\Program Files (x86)\\Common Files\n",
      "COMMONPROGRAMW6432=C:\\Program Files\\Common Files\n",
      "COMPUTERNAME=DESKTOP-0CP5T7U\n",
      "COMSPEC=C:\\Windows\\system32\\cmd.exe\n",
      "DRIVERDATA=C:\\Windows\\System32\\Drivers\\DriverData\n",
      "GIT_PAGER=cat\n",
      "HOMEDRIVE=C:\n",
      "HOMEPATH=\\Users\\ashim\n",
      "LOCALAPPDATA=C:\\Users\\ashim\\AppData\\Local\n",
      "LOGONSERVER=\\\\DESKTOP-0CP5T7U\n",
      "MPLBACKEND=module://matplotlib_inline.backend_inline\n",
      "NUMBER_OF_PROCESSORS=8\n",
      "ONEDRIVE=C:\\Users\\ashim\\OneDrive\n",
      "ONEDRIVECONSUMER=C:\\Users\\ashim\\OneDrive\n",
      "OS=Windows_NT\n",
      "PAGER=cat\n",
      "PATH=C:\\Windows\\system32;C:\\Windows;C:\\Windows\\System32\\Wbem;C:\\Windows\\System32\\WindowsPowerShell\\v1.0\\;C:\\Windows\\System32\\OpenSSH\\;C:\\Users\\ashim\\AppData\\Local\\Programs\\Python\\Python310;C:\\Users\\ashim\\AppData\\Local\\Programs\\Python\\Python310\\Scripts;C:\\Users\\ashim\\AppData\\Local\\Microsoft\\WindowsApps;;C:\\Program Files\\JetBrains\\PyCharm Community Edition 2021.2.2\\bin;\n",
      "PATHEXT=.COM;.EXE;.BAT;.CMD;.VBS;.VBE;.JS;.JSE;.WSF;.WSH;.MSC\n",
      "PROCESSOR_ARCHITECTURE=AMD64\n",
      "PROCESSOR_IDENTIFIER=Intel64 Family 6 Model 140 Stepping 1, GenuineIntel\n",
      "PROCESSOR_LEVEL=6\n",
      "PROCESSOR_REVISION=8c01\n",
      "PROGRAMDATA=C:\\ProgramData\n",
      "PROGRAMFILES=C:\\Program Files\n",
      "PROGRAMFILES(X86)=C:\\Program Files (x86)\n",
      "PROGRAMW6432=C:\\Program Files\n",
      "PROMPT=$P$G\n",
      "PSMODULEPATH=C:\\Program Files\\WindowsPowerShell\\Modules;C:\\Windows\\system32\\WindowsPowerShell\\v1.0\\Modules\n",
      "PUBLIC=C:\\Users\\Public\n",
      "PYCHARM COMMUNITY EDITION=C:\\Program Files\\JetBrains\\PyCharm Community Edition 2021.2.2\\bin;\n",
      "SESSIONNAME=Console\n",
      "SYSTEMDRIVE=C:\n",
      "SYSTEMROOT=C:\\Windows\n",
      "TEMP=C:\\Users\\ashim\\AppData\\Local\\Temp\n",
      "TERM=xterm-color\n",
      "TMP=C:\\Users\\ashim\\AppData\\Local\\Temp\n",
      "USERDOMAIN=DESKTOP-0CP5T7U\n",
      "USERDOMAIN_ROAMINGPROFILE=DESKTOP-0CP5T7U\n",
      "USERNAME=ashim\n",
      "USERPROFILE=C:\\Users\\ashim\n",
      "WINDIR=C:\\Windows\n",
      "ZES_ENABLE_SYSMAN=1\n",
      "PYDEVD_USE_FRAME_EVAL=NO\n",
      "JPY_INTERRUPT_EVENT=3596\n",
      "IPY_INTERRUPT_EVENT=3596\n",
      "JPY_PARENT_PID=3300\n"
     ]
    }
   ],
   "source": [
    "!set"
   ]
  },
  {
   "cell_type": "code",
   "execution_count": 4,
   "id": "be8dcdcc-bddd-4bf9-8179-122df27098e0",
   "metadata": {},
   "outputs": [],
   "source": [
    "!set PATH=%PATH%;C:\\Program Files\\Git\\cmd"
   ]
  },
  {
   "cell_type": "code",
   "execution_count": 5,
   "id": "275079cf-a4c7-4a87-837a-5b1e94ce778a",
   "metadata": {},
   "outputs": [
    {
     "name": "stderr",
     "output_type": "stream",
     "text": [
      "'git' is not recognized as an internal or external command,\n",
      "operable program or batch file.\n"
     ]
    }
   ],
   "source": [
    "!git"
   ]
  },
  {
   "cell_type": "code",
   "execution_count": 6,
   "id": "5e1ced9b-9dc2-454d-9863-0cc1a9edc0c7",
   "metadata": {},
   "outputs": [
    {
     "name": "stdout",
     "output_type": "stream",
     "text": [
      "usage: git [--version] [--help] [-C <path>] [-c <name>=<value>]\n",
      "           [--exec-path[=<path>]] [--html-path] [--man-path] [--info-path]\n",
      "           [-p | --paginate | -P | --no-pager] [--no-replace-objects] [--bare]\n",
      "           [--git-dir=<path>] [--work-tree=<path>] [--namespace=<name>]\n",
      "           [--super-prefix=<path>] [--config-env=<name>=<envvar>]\n",
      "           <command> [<args>]\n",
      "\n",
      "These are common Git commands used in various situations:\n",
      "\n",
      "start a working area (see also: git help tutorial)\n",
      "   clone             Clone a repository into a new directory\n",
      "   init              Create an empty Git repository or reinitialize an existing one\n",
      "\n",
      "work on the current change (see also: git help everyday)\n",
      "   add               Add file contents to the index\n",
      "   mv                Move or rename a file, a directory, or a symlink\n",
      "   restore           Restore working tree files\n",
      "   rm                Remove files from the working tree and from the index\n",
      "   sparse-checkout   Initialize and modify the sparse-checkout\n",
      "\n",
      "examine the history and state (see also: git help revisions)\n",
      "   bisect            Use binary search to find the commit that introduced a bug\n",
      "   diff              Show changes between commits, commit and working tree, etc\n",
      "   grep              Print lines matching a pattern\n",
      "   log               Show commit logs\n",
      "   show              Show various types of objects\n",
      "   status            Show the working tree status\n",
      "\n",
      "grow, mark and tweak your common history\n",
      "   branch            List, create, or delete branches\n",
      "   commit            Record changes to the repository\n",
      "   merge             Join two or more development histories together\n",
      "   rebase            Reapply commits on top of another base tip\n",
      "   reset             Reset current HEAD to the specified state\n",
      "   switch            Switch branches\n",
      "   tag               Create, list, delete or verify a tag object signed with GPG\n",
      "\n",
      "collaborate (see also: git help workflows)\n",
      "   fetch             Download objects and refs from another repository\n",
      "   pull              Fetch from and integrate with another repository or a local branch\n",
      "   push              Update remote refs along with associated objects\n",
      "\n",
      "'git help -a' and 'git help -g' list available subcommands and some\n",
      "concept guides. See 'git help <command>' or 'git help <concept>'\n",
      "to read about a specific subcommand or concept.\n",
      "See 'git help git' for an overview of the system.\n"
     ]
    }
   ],
   "source": [
    "!C:\\Program Files\\Git\\cmd\\git"
   ]
  },
  {
   "cell_type": "code",
   "execution_count": null,
   "id": "bc78b9c4-4c00-4bc6-ae41-2af58f2f7cca",
   "metadata": {},
   "outputs": [],
   "source": []
  }
 ],
 "metadata": {
  "kernelspec": {
   "display_name": "Python 3 (ipykernel)",
   "language": "python",
   "name": "python3"
  },
  "language_info": {
   "codemirror_mode": {
    "name": "ipython",
    "version": 3
   },
   "file_extension": ".py",
   "mimetype": "text/x-python",
   "name": "python",
   "nbconvert_exporter": "python",
   "pygments_lexer": "ipython3",
   "version": "3.10.0"
  }
 },
 "nbformat": 4,
 "nbformat_minor": 5
}
