{
 "cells": [
  {
   "cell_type": "raw",
   "id": "f81416e8-9b8e-43a6-912b-316c8d9f9ed5",
   "metadata": {},
   "source": [
    "Learning data type\n"
   ]
  },
  {
   "cell_type": "code",
   "execution_count": 3,
   "id": "7603c61a-fc9f-4e16-9a59-5446ab0f3bcc",
   "metadata": {},
   "outputs": [],
   "source": [
    "!mkdir test"
   ]
  },
  {
   "cell_type": "code",
   "execution_count": 4,
   "id": "b40e6716-c06b-4aa3-8565-ebe47a31ee33",
   "metadata": {},
   "outputs": [],
   "source": [
    "p = 20\n",
    "p= p*20"
   ]
  },
  {
   "cell_type": "code",
   "execution_count": 5,
   "id": "34ea15a7-53fe-4389-8b45-191aab7edf0b",
   "metadata": {},
   "outputs": [
    {
     "data": {
      "text/plain": [
       "400"
      ]
     },
     "execution_count": 5,
     "metadata": {},
     "output_type": "execute_result"
    }
   ],
   "source": [
    "p"
   ]
  },
  {
   "cell_type": "code",
   "execution_count": 6,
   "id": "9f817450-16a9-487b-9c2a-510f88ee3878",
   "metadata": {},
   "outputs": [
    {
     "name": "stdout",
     "output_type": "stream",
     "text": [
      "400\n"
     ]
    }
   ],
   "source": [
    "print(p)"
   ]
  },
  {
   "cell_type": "code",
   "execution_count": null,
   "id": "e6582cc6-d20d-45cb-a303-3dd5a589d4c1",
   "metadata": {},
   "outputs": [],
   "source": []
  }
 ],
 "metadata": {
  "kernelspec": {
   "display_name": "Python 3 (ipykernel)",
   "language": "python",
   "name": "python3"
  },
  "language_info": {
   "codemirror_mode": {
    "name": "ipython",
    "version": 3
   },
   "file_extension": ".py",
   "mimetype": "text/x-python",
   "name": "python",
   "nbconvert_exporter": "python",
   "pygments_lexer": "ipython3",
   "version": "3.10.0"
  }
 },
 "nbformat": 4,
 "nbformat_minor": 5
}
